{
 "cells": [
  {
   "cell_type": "code",
   "execution_count": 1,
   "metadata": {},
   "outputs": [],
   "source": [
    "import pandas as pd \n",
    "import numpy as np \n",
    "import matplotlib.pyplot as plt \n",
    "import seaborn as sns \n",
    "import warnings\n",
    "\n",
    "warnings.filterwarnings('ignore')\n",
    "plt.rcParams['figure.figsize'] = (12,6)\n",
    "plt.style.use('classic')"
   ]
  },
  {
   "cell_type": "code",
   "execution_count": 2,
   "metadata": {},
   "outputs": [
    {
     "name": "stdout",
     "output_type": "stream",
     "text": [
      "<class 'pandas.core.frame.DataFrame'>\n",
      "RangeIndex: 11430 entries, 0 to 11429\n",
      "Data columns (total 89 columns):\n",
      "url                           11430 non-null object\n",
      "length_url                    11430 non-null int64\n",
      "length_hostname               11430 non-null int64\n",
      "ip                            11430 non-null int64\n",
      "nb_dots                       11430 non-null int64\n",
      "nb_hyphens                    11430 non-null int64\n",
      "nb_at                         11430 non-null int64\n",
      "nb_qm                         11430 non-null int64\n",
      "nb_and                        11430 non-null int64\n",
      "nb_or                         11430 non-null int64\n",
      "nb_eq                         11430 non-null int64\n",
      "nb_underscore                 11430 non-null int64\n",
      "nb_tilde                      11430 non-null int64\n",
      "nb_percent                    11430 non-null int64\n",
      "nb_slash                      11430 non-null int64\n",
      "nb_star                       11430 non-null int64\n",
      "nb_colon                      11430 non-null int64\n",
      "nb_comma                      11430 non-null int64\n",
      "nb_semicolumn                 11430 non-null int64\n",
      "nb_dollar                     11430 non-null int64\n",
      "nb_space                      11430 non-null int64\n",
      "nb_www                        11430 non-null int64\n",
      "nb_com                        11430 non-null int64\n",
      "nb_dslash                     11430 non-null int64\n",
      "http_in_path                  11430 non-null int64\n",
      "https_token                   11430 non-null int64\n",
      "ratio_digits_url              11430 non-null float64\n",
      "ratio_digits_host             11430 non-null float64\n",
      "punycode                      11430 non-null int64\n",
      "port                          11430 non-null int64\n",
      "tld_in_path                   11430 non-null int64\n",
      "tld_in_subdomain              11430 non-null int64\n",
      "abnormal_subdomain            11430 non-null int64\n",
      "nb_subdomains                 11430 non-null int64\n",
      "prefix_suffix                 11430 non-null int64\n",
      "random_domain                 11430 non-null int64\n",
      "shortening_service            11430 non-null int64\n",
      "path_extension                11430 non-null int64\n",
      "nb_redirection                11430 non-null int64\n",
      "nb_external_redirection       11430 non-null int64\n",
      "length_words_raw              11430 non-null int64\n",
      "char_repeat                   11430 non-null int64\n",
      "shortest_words_raw            11430 non-null int64\n",
      "shortest_word_host            11430 non-null int64\n",
      "shortest_word_path            11430 non-null int64\n",
      "longest_words_raw             11430 non-null int64\n",
      "longest_word_host             11430 non-null int64\n",
      "longest_word_path             11430 non-null int64\n",
      "avg_words_raw                 11430 non-null float64\n",
      "avg_word_host                 11430 non-null float64\n",
      "avg_word_path                 11430 non-null float64\n",
      "phish_hints                   11430 non-null int64\n",
      "domain_in_brand               11430 non-null int64\n",
      "brand_in_subdomain            11430 non-null int64\n",
      "brand_in_path                 11430 non-null int64\n",
      "suspecious_tld                11430 non-null int64\n",
      "statistical_report            11430 non-null int64\n",
      "nb_hyperlinks                 11430 non-null int64\n",
      "ratio_intHyperlinks           11430 non-null float64\n",
      "ratio_extHyperlinks           11430 non-null float64\n",
      "ratio_nullHyperlinks          11430 non-null int64\n",
      "nb_extCSS                     11430 non-null int64\n",
      "ratio_intRedirection          11430 non-null int64\n",
      "ratio_extRedirection          11430 non-null float64\n",
      "ratio_intErrors               11430 non-null int64\n",
      "ratio_extErrors               11430 non-null float64\n",
      "login_form                    11430 non-null int64\n",
      "external_favicon              11430 non-null int64\n",
      "links_in_tags                 11430 non-null float64\n",
      "submit_email                  11430 non-null int64\n",
      "ratio_intMedia                11430 non-null float64\n",
      "ratio_extMedia                11430 non-null float64\n",
      "sfh                           11430 non-null int64\n",
      "iframe                        11430 non-null int64\n",
      "popup_window                  11430 non-null int64\n",
      "safe_anchor                   11430 non-null float64\n",
      "onmouseover                   11430 non-null int64\n",
      "right_clic                    11430 non-null int64\n",
      "empty_title                   11430 non-null int64\n",
      "domain_in_title               11430 non-null int64\n",
      "domain_with_copyright         11430 non-null int64\n",
      "whois_registered_domain       11430 non-null int64\n",
      "domain_registration_length    11430 non-null int64\n",
      "domain_age                    11430 non-null int64\n",
      "web_traffic                   11430 non-null int64\n",
      "dns_record                    11430 non-null int64\n",
      "google_index                  11430 non-null int64\n",
      "page_rank                     11430 non-null int64\n",
      "status                        11430 non-null object\n",
      "dtypes: float64(13), int64(74), object(2)\n",
      "memory usage: 7.8+ MB\n"
     ]
    }
   ],
   "source": [
    "df = pd.read_csv('FlaskPhish\\dataset_phishing.csv')\n",
    "df.info()"
   ]
  },
  {
   "cell_type": "code",
   "execution_count": 3,
   "metadata": {},
   "outputs": [
    {
     "data": {
      "text/html": [
       "<div>\n",
       "<style scoped>\n",
       "    .dataframe tbody tr th:only-of-type {\n",
       "        vertical-align: middle;\n",
       "    }\n",
       "\n",
       "    .dataframe tbody tr th {\n",
       "        vertical-align: top;\n",
       "    }\n",
       "\n",
       "    .dataframe thead th {\n",
       "        text-align: right;\n",
       "    }\n",
       "</style>\n",
       "<table border=\"1\" class=\"dataframe\">\n",
       "  <thead>\n",
       "    <tr style=\"text-align: right;\">\n",
       "      <th></th>\n",
       "      <th>url</th>\n",
       "      <th>length_url</th>\n",
       "      <th>length_hostname</th>\n",
       "      <th>ip</th>\n",
       "      <th>nb_dots</th>\n",
       "      <th>nb_hyphens</th>\n",
       "      <th>nb_at</th>\n",
       "      <th>nb_qm</th>\n",
       "      <th>nb_and</th>\n",
       "      <th>nb_or</th>\n",
       "      <th>...</th>\n",
       "      <th>domain_in_title</th>\n",
       "      <th>domain_with_copyright</th>\n",
       "      <th>whois_registered_domain</th>\n",
       "      <th>domain_registration_length</th>\n",
       "      <th>domain_age</th>\n",
       "      <th>web_traffic</th>\n",
       "      <th>dns_record</th>\n",
       "      <th>google_index</th>\n",
       "      <th>page_rank</th>\n",
       "      <th>status</th>\n",
       "    </tr>\n",
       "  </thead>\n",
       "  <tbody>\n",
       "    <tr>\n",
       "      <td>0</td>\n",
       "      <td>http://www.crestonwood.com/router.php</td>\n",
       "      <td>37</td>\n",
       "      <td>19</td>\n",
       "      <td>0</td>\n",
       "      <td>3</td>\n",
       "      <td>0</td>\n",
       "      <td>0</td>\n",
       "      <td>0</td>\n",
       "      <td>0</td>\n",
       "      <td>0</td>\n",
       "      <td>...</td>\n",
       "      <td>0</td>\n",
       "      <td>1</td>\n",
       "      <td>0</td>\n",
       "      <td>45</td>\n",
       "      <td>-1</td>\n",
       "      <td>0</td>\n",
       "      <td>1</td>\n",
       "      <td>1</td>\n",
       "      <td>4</td>\n",
       "      <td>legitimate</td>\n",
       "    </tr>\n",
       "    <tr>\n",
       "      <td>1</td>\n",
       "      <td>http://shadetreetechnology.com/V4/validation/a...</td>\n",
       "      <td>77</td>\n",
       "      <td>23</td>\n",
       "      <td>1</td>\n",
       "      <td>1</td>\n",
       "      <td>0</td>\n",
       "      <td>0</td>\n",
       "      <td>0</td>\n",
       "      <td>0</td>\n",
       "      <td>0</td>\n",
       "      <td>...</td>\n",
       "      <td>1</td>\n",
       "      <td>0</td>\n",
       "      <td>0</td>\n",
       "      <td>77</td>\n",
       "      <td>5767</td>\n",
       "      <td>0</td>\n",
       "      <td>0</td>\n",
       "      <td>1</td>\n",
       "      <td>2</td>\n",
       "      <td>phishing</td>\n",
       "    </tr>\n",
       "    <tr>\n",
       "      <td>2</td>\n",
       "      <td>https://support-appleld.com.secureupdate.duila...</td>\n",
       "      <td>126</td>\n",
       "      <td>50</td>\n",
       "      <td>1</td>\n",
       "      <td>4</td>\n",
       "      <td>1</td>\n",
       "      <td>0</td>\n",
       "      <td>1</td>\n",
       "      <td>2</td>\n",
       "      <td>0</td>\n",
       "      <td>...</td>\n",
       "      <td>1</td>\n",
       "      <td>0</td>\n",
       "      <td>0</td>\n",
       "      <td>14</td>\n",
       "      <td>4004</td>\n",
       "      <td>5828815</td>\n",
       "      <td>0</td>\n",
       "      <td>1</td>\n",
       "      <td>0</td>\n",
       "      <td>phishing</td>\n",
       "    </tr>\n",
       "    <tr>\n",
       "      <td>3</td>\n",
       "      <td>http://rgipt.ac.in</td>\n",
       "      <td>18</td>\n",
       "      <td>11</td>\n",
       "      <td>0</td>\n",
       "      <td>2</td>\n",
       "      <td>0</td>\n",
       "      <td>0</td>\n",
       "      <td>0</td>\n",
       "      <td>0</td>\n",
       "      <td>0</td>\n",
       "      <td>...</td>\n",
       "      <td>1</td>\n",
       "      <td>0</td>\n",
       "      <td>0</td>\n",
       "      <td>62</td>\n",
       "      <td>-1</td>\n",
       "      <td>107721</td>\n",
       "      <td>0</td>\n",
       "      <td>0</td>\n",
       "      <td>3</td>\n",
       "      <td>legitimate</td>\n",
       "    </tr>\n",
       "    <tr>\n",
       "      <td>4</td>\n",
       "      <td>http://www.iracing.com/tracks/gateway-motorspo...</td>\n",
       "      <td>55</td>\n",
       "      <td>15</td>\n",
       "      <td>0</td>\n",
       "      <td>2</td>\n",
       "      <td>2</td>\n",
       "      <td>0</td>\n",
       "      <td>0</td>\n",
       "      <td>0</td>\n",
       "      <td>0</td>\n",
       "      <td>...</td>\n",
       "      <td>0</td>\n",
       "      <td>1</td>\n",
       "      <td>0</td>\n",
       "      <td>224</td>\n",
       "      <td>8175</td>\n",
       "      <td>8725</td>\n",
       "      <td>0</td>\n",
       "      <td>0</td>\n",
       "      <td>6</td>\n",
       "      <td>legitimate</td>\n",
       "    </tr>\n",
       "  </tbody>\n",
       "</table>\n",
       "<p>5 rows × 89 columns</p>\n",
       "</div>"
      ],
      "text/plain": [
       "                                                 url  length_url  \\\n",
       "0              http://www.crestonwood.com/router.php          37   \n",
       "1  http://shadetreetechnology.com/V4/validation/a...          77   \n",
       "2  https://support-appleld.com.secureupdate.duila...         126   \n",
       "3                                 http://rgipt.ac.in          18   \n",
       "4  http://www.iracing.com/tracks/gateway-motorspo...          55   \n",
       "\n",
       "   length_hostname  ip  nb_dots  nb_hyphens  nb_at  nb_qm  nb_and  nb_or  ...  \\\n",
       "0               19   0        3           0      0      0       0      0  ...   \n",
       "1               23   1        1           0      0      0       0      0  ...   \n",
       "2               50   1        4           1      0      1       2      0  ...   \n",
       "3               11   0        2           0      0      0       0      0  ...   \n",
       "4               15   0        2           2      0      0       0      0  ...   \n",
       "\n",
       "   domain_in_title  domain_with_copyright  whois_registered_domain  \\\n",
       "0                0                      1                        0   \n",
       "1                1                      0                        0   \n",
       "2                1                      0                        0   \n",
       "3                1                      0                        0   \n",
       "4                0                      1                        0   \n",
       "\n",
       "   domain_registration_length  domain_age  web_traffic  dns_record  \\\n",
       "0                          45          -1            0           1   \n",
       "1                          77        5767            0           0   \n",
       "2                          14        4004      5828815           0   \n",
       "3                          62          -1       107721           0   \n",
       "4                         224        8175         8725           0   \n",
       "\n",
       "   google_index  page_rank      status  \n",
       "0             1          4  legitimate  \n",
       "1             1          2    phishing  \n",
       "2             1          0    phishing  \n",
       "3             0          3  legitimate  \n",
       "4             0          6  legitimate  \n",
       "\n",
       "[5 rows x 89 columns]"
      ]
     },
     "execution_count": 3,
     "metadata": {},
     "output_type": "execute_result"
    }
   ],
   "source": [
    "df.head()"
   ]
  },
  {
   "cell_type": "markdown",
   "metadata": {},
   "source": [
    "### url is no use in since rest of the features are derived from it so dropping url "
   ]
  },
  {
   "cell_type": "code",
   "execution_count": 4,
   "metadata": {},
   "outputs": [],
   "source": [
    "df = df.drop(['url'], axis = 1)"
   ]
  },
  {
   "cell_type": "code",
   "execution_count": 5,
   "metadata": {},
   "outputs": [
    {
     "data": {
      "text/plain": [
       "length_url          324\n",
       "length_hostname      83\n",
       "ip                    2\n",
       "nb_dots              19\n",
       "nb_hyphens           27\n",
       "                   ... \n",
       "web_traffic        4744\n",
       "dns_record            2\n",
       "google_index          2\n",
       "page_rank            11\n",
       "status                2\n",
       "Length: 88, dtype: int64"
      ]
     },
     "execution_count": 5,
     "metadata": {},
     "output_type": "execute_result"
    }
   ],
   "source": [
    "df.nunique()"
   ]
  },
  {
   "cell_type": "code",
   "execution_count": 6,
   "metadata": {},
   "outputs": [],
   "source": [
    "def null(df, thresh = 0):\n",
    "    for c in df.columns:\n",
    "        n = df[c].isnull().values.sum()\n",
    "        if n > thresh:\n",
    "            print(f\"{c} ===> {n}\")"
   ]
  },
  {
   "cell_type": "code",
   "execution_count": 7,
   "metadata": {},
   "outputs": [],
   "source": [
    "null(df)"
   ]
  },
  {
   "cell_type": "code",
   "execution_count": 8,
   "metadata": {},
   "outputs": [
    {
     "data": {
      "image/png": "[encoded data removed]",
      "text/plain": [
       "<Figure size 432x288 with 1 Axes>"
      ]
     },
     "metadata": {
      "needs_background": "light"
     },
     "output_type": "display_data"
    }
   ],
   "source": [
    "plt.hist(df.web_traffic);"
   ]
  },
  {
   "cell_type": "code",
   "execution_count": 9,
   "metadata": {},
   "outputs": [
    {
     "data": {
      "text/plain": [
       "<matplotlib.axes._subplots.AxesSubplot at 0x273145ff808>"
      ]
     },
     "execution_count": 9,
     "metadata": {},
     "output_type": "execute_result"
    },
    {
     "data": {
      "image/png": "[encoded data removed]",
      "text/plain": [
       "<Figure size 432x288 with 1 Axes>"
      ]
     },
     "metadata": {
      "needs_background": "light"
     },
     "output_type": "display_data"
    }
   ],
   "source": [
    "wt = df[['web_traffic','status']][df.web_traffic == 0]\n",
    "plt.title('count plot for web trafics with 0 traffic')\n",
    "sns.countplot(data = wt, x = 'web_traffic', hue = 'status')"
   ]
  },
  {
   "cell_type": "code",
   "execution_count": 10,
   "metadata": {},
   "outputs": [
    {
     "data": {
      "image/png": "[encoded data removed]",
      "text/plain": [
       "<Figure size 432x288 with 1 Axes>"
      ]
     },
     "metadata": {
      "needs_background": "light"
     },
     "output_type": "display_data"
    }
   ],
   "source": [
    "plt.hist(df.length_url);"
   ]
  },
  {
   "cell_type": "code",
   "execution_count": 11,
   "metadata": {},
   "outputs": [],
   "source": [
    "cols = df.columns\n",
    "def plot(df, rc, cols, hue = None, ptype = 'dist'):\n",
    "    fig, ax = plt.subplots(rc[0],rc[1], figsize = (16,8))\n",
    "    ind = 0\n",
    "    for r in range(rc[0]):\n",
    "        for c in range(rc[1]):\n",
    "            if ind > len(cols):\n",
    "                break\n",
    "            col = cols[ind]\n",
    "            x = df[col]\n",
    "            if ptype == 'dist':\n",
    "                sns.distplot(x, ax = ax[r,c])\n",
    "            elif ptype == 'bar':\n",
    "                sns.countplot(x, ax = ax[r,c], hue = hue)\n",
    "            ind += 1"
   ]
  },
  {
   "cell_type": "code",
   "execution_count": 12,
   "metadata": {},
   "outputs": [
    {
     "data": {
      "text/plain": [
       "50"
      ]
     },
     "execution_count": 12,
     "metadata": {},
     "output_type": "execute_result"
    }
   ],
   "source": [
    "cols_to_dist = [c for c in cols if df[c].nunique() > 2]\n",
    "len(cols_to_dist)"
   ]
  },
  {
   "cell_type": "code",
   "execution_count": 13,
   "metadata": {},
   "outputs": [
    {
     "data": {
      "image/png": "[encoded data removed]",
      "text/plain": [
       "<Figure size 1152x576 with 10 Axes>"
      ]
     },
     "metadata": {
      "needs_background": "light"
     },
     "output_type": "display_data"
    }
   ],
   "source": [
    "plot(df[cols_to_dist[:10]], [2,5], cols_to_dist[:10])"
   ]
  },
  {
   "cell_type": "code",
   "execution_count": 14,
   "metadata": {},
   "outputs": [
    {
     "data": {
      "image/png": "[encoded data removed]",
      "text/plain": [
       "<Figure size 1152x576 with 10 Axes>"
      ]
     },
     "metadata": {
      "needs_background": "light"
     },
     "output_type": "display_data"
    }
   ],
   "source": [
    "plot(df[cols_to_dist[10:20]], [2,5], cols_to_dist[10:20])"
   ]
  },
  {
   "cell_type": "code",
   "execution_count": 15,
   "metadata": {},
   "outputs": [
    {
     "data": {
      "image/png": "[encoded data removed]",
      "text/plain": [
       "<Figure size 1152x576 with 10 Axes>"
      ]
     },
     "metadata": {
      "needs_background": "light"
     },
     "output_type": "display_data"
    }
   ],
   "source": [
    "plot(df[cols_to_dist[20:30]], [2,5], cols_to_dist[20:30])"
   ]
  },
  {
   "cell_type": "code",
   "execution_count": 16,
   "metadata": {},
   "outputs": [
    {
     "data": {
      "image/png": "[encoded data removed]",
      "text/plain": [
       "<Figure size 1152x576 with 10 Axes>"
      ]
     },
     "metadata": {
      "needs_background": "light"
     },
     "output_type": "display_data"
    }
   ],
   "source": [
    "plot(df[cols_to_dist[30:40]], [2,5], cols_to_dist[30:40])"
   ]
  },
  {
   "cell_type": "code",
   "execution_count": 17,
   "metadata": {},
   "outputs": [
    {
     "data": {
      "image/png": "[encoded data removed]",
      "text/plain": [
       "<Figure size 1152x576 with 10 Axes>"
      ]
     },
     "metadata": {
      "needs_background": "light"
     },
     "output_type": "display_data"
    }
   ],
   "source": [
    "plot(df[cols_to_dist[40:50]], [2,5], cols_to_dist[40:50])"
   ]
  },
  {
   "cell_type": "markdown",
   "metadata": {},
   "source": [
    "### longest word host and avg word host are normally distributed "
   ]
  },
  {
   "cell_type": "code",
   "execution_count": 18,
   "metadata": {},
   "outputs": [
    {
     "name": "stdout",
     "output_type": "stream",
     "text": [
      "30 tld_in_subdomain\n",
      "31 abnormal_subdomain\n",
      "32 nb_subdomains\n",
      "34 random_domain\n",
      "51 domain_in_brand\n",
      "52 brand_in_subdomain\n",
      "78 domain_in_title\n",
      "79 domain_with_copyright\n",
      "80 whois_registered_domain\n",
      "81 domain_registration_length\n",
      "82 domain_age\n"
     ]
    }
   ],
   "source": [
    "for ind,c in enumerate(cols):\n",
    "    if 'random' in c or 'domain' in c:\n",
    "        print(ind,c)"
   ]
  },
  {
   "cell_type": "code",
   "execution_count": 19,
   "metadata": {},
   "outputs": [
    {
     "data": {
      "text/plain": [
       "<matplotlib.axes._subplots.AxesSubplot at 0x273145fa408>"
      ]
     },
     "execution_count": 19,
     "metadata": {},
     "output_type": "execute_result"
    },
    {
     "data": {
      "image/png": "[encoded data removed]",
      "text/plain": [
       "<Figure size 432x288 with 1 Axes>"
      ]
     },
     "metadata": {
      "needs_background": "light"
     },
     "output_type": "display_data"
    }
   ],
   "source": [
    "sns.countplot(df.random_domain, hue = df.status)"
   ]
  },
  {
   "cell_type": "markdown",
   "metadata": {},
   "source": [
    "### looks like most of the domains with random names are legitmate"
   ]
  },
  {
   "cell_type": "code",
   "execution_count": 20,
   "metadata": {},
   "outputs": [
    {
     "data": {
      "text/plain": [
       "38"
      ]
     },
     "execution_count": 20,
     "metadata": {},
     "output_type": "execute_result"
    }
   ],
   "source": [
    "cols_to_count = [c for c in cols if c not in cols_to_dist]\n",
    "normally_distributed_cols = ['longest_word_host']\n",
    "len(cols_to_count)"
   ]
  },
  {
   "cell_type": "code",
   "execution_count": 21,
   "metadata": {},
   "outputs": [
    {
     "data": {
      "text/plain": [
       "['avg_words_raw', 'avg_word_host', 'avg_word_path']"
      ]
     },
     "execution_count": 21,
     "metadata": {},
     "output_type": "execute_result"
    }
   ],
   "source": [
    "avgs_cols = [c for c in cols if c[:3].lower() == 'avg']\n",
    "avgs_cols"
   ]
  },
  {
   "cell_type": "markdown",
   "metadata": {},
   "source": [
    "#### i dont feel like avg words raw , avg words host and avg word path are needed since we have shortest and longest cols for them"
   ]
  },
  {
   "cell_type": "code",
   "execution_count": 22,
   "metadata": {},
   "outputs": [],
   "source": [
    "def get_percent(df, hue):\n",
    "    hue_class = df[hue].unique()\n",
    "    n = df.shape[0]\n",
    "    for c in cols:\n",
    "        print()\n",
    "        print(f' {c} '.center(60,'='))\n",
    "        print(f\"{hue_class[0]} ====> {df[c][df[hue] == hue_class[0]].shape[0] / n}\")\n",
    "        print(f\"{hue_class[1]} ====> {df[c][df[hue] == hue_class[1]].shape[0] / n}\")"
   ]
  },
  {
   "cell_type": "code",
   "execution_count": 23,
   "metadata": {},
   "outputs": [
    {
     "name": "stdout",
     "output_type": "stream",
     "text": [
      "\n",
      "======================== length_url ========================\n",
      "legitimate ====> 0.5\n",
      "phishing ====> 0.5\n",
      "\n",
      "===================== length_hostname ======================\n",
      "legitimate ====> 0.5\n",
      "phishing ====> 0.5\n",
      "\n",
      "============================ ip ============================\n",
      "legitimate ====> 0.5\n",
      "phishing ====> 0.5\n",
      "\n",
      "========================= nb_dots ==========================\n",
      "legitimate ====> 0.5\n",
      "phishing ====> 0.5\n",
      "\n",
      "======================== nb_hyphens ========================\n",
      "legitimate ====> 0.5\n",
      "phishing ====> 0.5\n",
      "\n",
      "========================== nb_at ===========================\n",
      "legitimate ====> 0.5\n",
      "phishing ====> 0.5\n",
      "\n",
      "========================== nb_qm ===========================\n",
      "legitimate ====> 0.5\n",
      "phishing ====> 0.5\n",
      "\n",
      "========================== nb_and ==========================\n",
      "legitimate ====> 0.5\n",
      "phishing ====> 0.5\n",
      "\n",
      "========================== nb_or ===========================\n",
      "legitimate ====> 0.5\n",
      "phishing ====> 0.5\n",
      "\n",
      "========================== nb_eq ===========================\n",
      "legitimate ====> 0.5\n",
      "phishing ====> 0.5\n",
      "\n",
      "====================== nb_underscore =======================\n",
      "legitimate ====> 0.5\n",
      "phishing ====> 0.5\n",
      "\n",
      "========================= nb_tilde =========================\n",
      "legitimate ====> 0.5\n",
      "phishing ====> 0.5\n",
      "\n",
      "======================== nb_percent ========================\n",
      "legitimate ====> 0.5\n",
      "phishing ====> 0.5\n",
      "\n",
      "========================= nb_slash =========================\n",
      "legitimate ====> 0.5\n",
      "phishing ====> 0.5\n",
      "\n",
      "========================= nb_star ==========================\n",
      "legitimate ====> 0.5\n",
      "phishing ====> 0.5\n",
      "\n",
      "========================= nb_colon =========================\n",
      "legitimate ====> 0.5\n",
      "phishing ====> 0.5\n",
      "\n",
      "========================= nb_comma =========================\n",
      "legitimate ====> 0.5\n",
      "phishing ====> 0.5\n",
      "\n",
      "====================== nb_semicolumn =======================\n",
      "legitimate ====> 0.5\n",
      "phishing ====> 0.5\n",
      "\n",
      "======================== nb_dollar =========================\n",
      "legitimate ====> 0.5\n",
      "phishing ====> 0.5\n",
      "\n",
      "========================= nb_space =========================\n",
      "legitimate ====> 0.5\n",
      "phishing ====> 0.5\n",
      "\n",
      "========================== nb_www ==========================\n",
      "legitimate ====> 0.5\n",
      "phishing ====> 0.5\n",
      "\n",
      "========================== nb_com ==========================\n",
      "legitimate ====> 0.5\n",
      "phishing ====> 0.5\n",
      "\n",
      "======================== nb_dslash =========================\n",
      "legitimate ====> 0.5\n",
      "phishing ====> 0.5\n",
      "\n",
      "======================= http_in_path =======================\n",
      "legitimate ====> 0.5\n",
      "phishing ====> 0.5\n",
      "\n",
      "======================= https_token ========================\n",
      "legitimate ====> 0.5\n",
      "phishing ====> 0.5\n",
      "\n",
      "===================== ratio_digits_url =====================\n",
      "legitimate ====> 0.5\n",
      "phishing ====> 0.5\n",
      "\n",
      "==================== ratio_digits_host =====================\n",
      "legitimate ====> 0.5\n",
      "phishing ====> 0.5\n",
      "\n",
      "========================= punycode =========================\n",
      "legitimate ====> 0.5\n",
      "phishing ====> 0.5\n",
      "\n",
      "=========================== port ===========================\n",
      "legitimate ====> 0.5\n",
      "phishing ====> 0.5\n",
      "\n",
      "======================= tld_in_path ========================\n",
      "legitimate ====> 0.5\n",
      "phishing ====> 0.5\n",
      "\n",
      "===================== tld_in_subdomain =====================\n",
      "legitimate ====> 0.5\n",
      "phishing ====> 0.5\n",
      "\n",
      "==================== abnormal_subdomain ====================\n",
      "legitimate ====> 0.5\n",
      "phishing ====> 0.5\n",
      "\n",
      "====================== nb_subdomains =======================\n",
      "legitimate ====> 0.5\n",
      "phishing ====> 0.5\n",
      "\n",
      "====================== prefix_suffix =======================\n",
      "legitimate ====> 0.5\n",
      "phishing ====> 0.5\n",
      "\n",
      "====================== random_domain =======================\n",
      "legitimate ====> 0.5\n",
      "phishing ====> 0.5\n",
      "\n",
      "==================== shortening_service ====================\n",
      "legitimate ====> 0.5\n",
      "phishing ====> 0.5\n",
      "\n",
      "====================== path_extension ======================\n",
      "legitimate ====> 0.5\n",
      "phishing ====> 0.5\n",
      "\n",
      "====================== nb_redirection ======================\n",
      "legitimate ====> 0.5\n",
      "phishing ====> 0.5\n",
      "\n",
      "================= nb_external_redirection ==================\n",
      "legitimate ====> 0.5\n",
      "phishing ====> 0.5\n",
      "\n",
      "===================== length_words_raw =====================\n",
      "legitimate ====> 0.5\n",
      "phishing ====> 0.5\n",
      "\n",
      "======================= char_repeat ========================\n",
      "legitimate ====> 0.5\n",
      "phishing ====> 0.5\n",
      "\n",
      "==================== shortest_words_raw ====================\n",
      "legitimate ====> 0.5\n",
      "phishing ====> 0.5\n",
      "\n",
      "==================== shortest_word_host ====================\n",
      "legitimate ====> 0.5\n",
      "phishing ====> 0.5\n",
      "\n",
      "==================== shortest_word_path ====================\n",
      "legitimate ====> 0.5\n",
      "phishing ====> 0.5\n",
      "\n",
      "==================== longest_words_raw =====================\n",
      "legitimate ====> 0.5\n",
      "phishing ====> 0.5\n",
      "\n",
      "==================== longest_word_host =====================\n",
      "legitimate ====> 0.5\n",
      "phishing ====> 0.5\n",
      "\n",
      "==================== longest_word_path =====================\n",
      "legitimate ====> 0.5\n",
      "phishing ====> 0.5\n",
      "\n",
      "====================== avg_words_raw =======================\n",
      "legitimate ====> 0.5\n",
      "phishing ====> 0.5\n",
      "\n",
      "====================== avg_word_host =======================\n",
      "legitimate ====> 0.5\n",
      "phishing ====> 0.5\n",
      "\n",
      "====================== avg_word_path =======================\n",
      "legitimate ====> 0.5\n",
      "phishing ====> 0.5\n",
      "\n",
      "======================= phish_hints ========================\n",
      "legitimate ====> 0.5\n",
      "phishing ====> 0.5\n",
      "\n",
      "===================== domain_in_brand ======================\n",
      "legitimate ====> 0.5\n",
      "phishing ====> 0.5\n",
      "\n",
      "==================== brand_in_subdomain ====================\n",
      "legitimate ====> 0.5\n",
      "phishing ====> 0.5\n",
      "\n",
      "====================== brand_in_path =======================\n",
      "legitimate ====> 0.5\n",
      "phishing ====> 0.5\n",
      "\n",
      "====================== suspecious_tld ======================\n",
      "legitimate ====> 0.5\n",
      "phishing ====> 0.5\n",
      "\n",
      "==================== statistical_report ====================\n",
      "legitimate ====> 0.5\n",
      "phishing ====> 0.5\n",
      "\n",
      "====================== nb_hyperlinks =======================\n",
      "legitimate ====> 0.5\n",
      "phishing ====> 0.5\n",
      "\n",
      "=================== ratio_intHyperlinks ====================\n",
      "legitimate ====> 0.5\n",
      "phishing ====> 0.5\n",
      "\n",
      "=================== ratio_extHyperlinks ====================\n",
      "legitimate ====> 0.5\n",
      "phishing ====> 0.5\n",
      "\n",
      "=================== ratio_nullHyperlinks ===================\n",
      "legitimate ====> 0.5\n",
      "phishing ====> 0.5\n",
      "\n",
      "======================== nb_extCSS =========================\n",
      "legitimate ====> 0.5\n",
      "phishing ====> 0.5\n",
      "\n",
      "=================== ratio_intRedirection ===================\n",
      "legitimate ====> 0.5\n",
      "phishing ====> 0.5\n",
      "\n",
      "=================== ratio_extRedirection ===================\n",
      "legitimate ====> 0.5\n",
      "phishing ====> 0.5\n",
      "\n",
      "===================== ratio_intErrors ======================\n",
      "legitimate ====> 0.5\n",
      "phishing ====> 0.5\n",
      "\n",
      "===================== ratio_extErrors ======================\n",
      "legitimate ====> 0.5\n",
      "phishing ====> 0.5\n",
      "\n",
      "======================== login_form ========================\n",
      "legitimate ====> 0.5\n",
      "phishing ====> 0.5\n",
      "\n",
      "===================== external_favicon =====================\n",
      "legitimate ====> 0.5\n",
      "phishing ====> 0.5\n",
      "\n",
      "====================== links_in_tags =======================\n",
      "legitimate ====> 0.5\n",
      "phishing ====> 0.5\n",
      "\n",
      "======================= submit_email =======================\n",
      "legitimate ====> 0.5\n",
      "phishing ====> 0.5\n",
      "\n",
      "====================== ratio_intMedia ======================\n",
      "legitimate ====> 0.5\n",
      "phishing ====> 0.5\n",
      "\n",
      "====================== ratio_extMedia ======================\n",
      "legitimate ====> 0.5\n",
      "phishing ====> 0.5\n",
      "\n",
      "=========================== sfh ============================\n",
      "legitimate ====> 0.5\n",
      "phishing ====> 0.5\n",
      "\n",
      "========================== iframe ==========================\n",
      "legitimate ====> 0.5\n",
      "phishing ====> 0.5\n",
      "\n",
      "======================= popup_window =======================\n",
      "legitimate ====> 0.5\n",
      "phishing ====> 0.5\n",
      "\n",
      "======================= safe_anchor ========================\n",
      "legitimate ====> 0.5\n",
      "phishing ====> 0.5\n",
      "\n",
      "======================= onmouseover ========================\n",
      "legitimate ====> 0.5\n",
      "phishing ====> 0.5\n",
      "\n",
      "======================== right_clic ========================\n",
      "legitimate ====> 0.5\n",
      "phishing ====> 0.5\n",
      "\n",
      "======================= empty_title ========================\n",
      "legitimate ====> 0.5\n",
      "phishing ====> 0.5\n",
      "\n",
      "===================== domain_in_title ======================\n",
      "legitimate ====> 0.5\n",
      "phishing ====> 0.5\n",
      "\n",
      "================== domain_with_copyright ===================\n",
      "legitimate ====> 0.5\n",
      "phishing ====> 0.5\n",
      "\n",
      "================= whois_registered_domain ==================\n",
      "legitimate ====> 0.5\n",
      "phishing ====> 0.5\n",
      "\n",
      "================ domain_registration_length ================\n",
      "legitimate ====> 0.5\n",
      "phishing ====> 0.5\n",
      "\n",
      "======================== domain_age ========================\n",
      "legitimate ====> 0.5\n",
      "phishing ====> 0.5\n",
      "\n",
      "======================= web_traffic ========================\n",
      "legitimate ====> 0.5\n",
      "phishing ====> 0.5\n",
      "\n",
      "======================== dns_record ========================\n",
      "legitimate ====> 0.5\n",
      "phishing ====> 0.5\n",
      "\n",
      "======================= google_index =======================\n",
      "legitimate ====> 0.5\n",
      "phishing ====> 0.5\n",
      "\n",
      "======================== page_rank =========================\n",
      "legitimate ====> 0.5\n",
      "phishing ====> 0.5\n",
      "\n",
      "========================== status ==========================\n",
      "legitimate ====> 0.5\n",
      "phishing ====> 0.5\n"
     ]
    }
   ],
   "source": [
    "get_percent(df, 'status')"
   ]
  },
  {
   "cell_type": "markdown",
   "metadata": {},
   "source": [
    "#### looks like all the features have equally distributed classes"
   ]
  },
  {
   "cell_type": "code",
   "execution_count": 24,
   "metadata": {},
   "outputs": [],
   "source": [
    "df['status'] = df.status.replace({'legitimate' : 0, 'phishing' : 1})"
   ]
  },
  {
   "cell_type": "code",
   "execution_count": 25,
   "metadata": {},
   "outputs": [
    {
     "data": {
      "text/html": [
       "<div>\n",
       "<style scoped>\n",
       "    .dataframe tbody tr th:only-of-type {\n",
       "        vertical-align: middle;\n",
       "    }\n",
       "\n",
       "    .dataframe tbody tr th {\n",
       "        vertical-align: top;\n",
       "    }\n",
       "\n",
       "    .dataframe thead th {\n",
       "        text-align: right;\n",
       "    }\n",
       "</style>\n",
       "<table border=\"1\" class=\"dataframe\">\n",
       "  <thead>\n",
       "    <tr style=\"text-align: right;\">\n",
       "      <th></th>\n",
       "      <th>length_url</th>\n",
       "      <th>length_hostname</th>\n",
       "      <th>ip</th>\n",
       "      <th>nb_dots</th>\n",
       "      <th>nb_hyphens</th>\n",
       "      <th>nb_at</th>\n",
       "      <th>nb_qm</th>\n",
       "      <th>nb_and</th>\n",
       "      <th>nb_or</th>\n",
       "      <th>nb_eq</th>\n",
       "      <th>...</th>\n",
       "      <th>domain_in_title</th>\n",
       "      <th>domain_with_copyright</th>\n",
       "      <th>whois_registered_domain</th>\n",
       "      <th>domain_registration_length</th>\n",
       "      <th>domain_age</th>\n",
       "      <th>web_traffic</th>\n",
       "      <th>dns_record</th>\n",
       "      <th>google_index</th>\n",
       "      <th>page_rank</th>\n",
       "      <th>status</th>\n",
       "    </tr>\n",
       "  </thead>\n",
       "  <tbody>\n",
       "    <tr>\n",
       "      <td>0</td>\n",
       "      <td>37</td>\n",
       "      <td>19</td>\n",
       "      <td>0</td>\n",
       "      <td>3</td>\n",
       "      <td>0</td>\n",
       "      <td>0</td>\n",
       "      <td>0</td>\n",
       "      <td>0</td>\n",
       "      <td>0</td>\n",
       "      <td>0</td>\n",
       "      <td>...</td>\n",
       "      <td>0</td>\n",
       "      <td>1</td>\n",
       "      <td>0</td>\n",
       "      <td>45</td>\n",
       "      <td>-1</td>\n",
       "      <td>0</td>\n",
       "      <td>1</td>\n",
       "      <td>1</td>\n",
       "      <td>4</td>\n",
       "      <td>0</td>\n",
       "    </tr>\n",
       "    <tr>\n",
       "      <td>1</td>\n",
       "      <td>77</td>\n",
       "      <td>23</td>\n",
       "      <td>1</td>\n",
       "      <td>1</td>\n",
       "      <td>0</td>\n",
       "      <td>0</td>\n",
       "      <td>0</td>\n",
       "      <td>0</td>\n",
       "      <td>0</td>\n",
       "      <td>0</td>\n",
       "      <td>...</td>\n",
       "      <td>1</td>\n",
       "      <td>0</td>\n",
       "      <td>0</td>\n",
       "      <td>77</td>\n",
       "      <td>5767</td>\n",
       "      <td>0</td>\n",
       "      <td>0</td>\n",
       "      <td>1</td>\n",
       "      <td>2</td>\n",
       "      <td>1</td>\n",
       "    </tr>\n",
       "    <tr>\n",
       "      <td>2</td>\n",
       "      <td>126</td>\n",
       "      <td>50</td>\n",
       "      <td>1</td>\n",
       "      <td>4</td>\n",
       "      <td>1</td>\n",
       "      <td>0</td>\n",
       "      <td>1</td>\n",
       "      <td>2</td>\n",
       "      <td>0</td>\n",
       "      <td>3</td>\n",
       "      <td>...</td>\n",
       "      <td>1</td>\n",
       "      <td>0</td>\n",
       "      <td>0</td>\n",
       "      <td>14</td>\n",
       "      <td>4004</td>\n",
       "      <td>5828815</td>\n",
       "      <td>0</td>\n",
       "      <td>1</td>\n",
       "      <td>0</td>\n",
       "      <td>1</td>\n",
       "    </tr>\n",
       "    <tr>\n",
       "      <td>3</td>\n",
       "      <td>18</td>\n",
       "      <td>11</td>\n",
       "      <td>0</td>\n",
       "      <td>2</td>\n",
       "      <td>0</td>\n",
       "      <td>0</td>\n",
       "      <td>0</td>\n",
       "      <td>0</td>\n",
       "      <td>0</td>\n",
       "      <td>0</td>\n",
       "      <td>...</td>\n",
       "      <td>1</td>\n",
       "      <td>0</td>\n",
       "      <td>0</td>\n",
       "      <td>62</td>\n",
       "      <td>-1</td>\n",
       "      <td>107721</td>\n",
       "      <td>0</td>\n",
       "      <td>0</td>\n",
       "      <td>3</td>\n",
       "      <td>0</td>\n",
       "    </tr>\n",
       "    <tr>\n",
       "      <td>4</td>\n",
       "      <td>55</td>\n",
       "      <td>15</td>\n",
       "      <td>0</td>\n",
       "      <td>2</td>\n",
       "      <td>2</td>\n",
       "      <td>0</td>\n",
       "      <td>0</td>\n",
       "      <td>0</td>\n",
       "      <td>0</td>\n",
       "      <td>0</td>\n",
       "      <td>...</td>\n",
       "      <td>0</td>\n",
       "      <td>1</td>\n",
       "      <td>0</td>\n",
       "      <td>224</td>\n",
       "      <td>8175</td>\n",
       "      <td>8725</td>\n",
       "      <td>0</td>\n",
       "      <td>0</td>\n",
       "      <td>6</td>\n",
       "      <td>0</td>\n",
       "    </tr>\n",
       "  </tbody>\n",
       "</table>\n",
       "<p>5 rows × 88 columns</p>\n",
       "</div>"
      ],
      "text/plain": [
       "   length_url  length_hostname  ip  nb_dots  nb_hyphens  nb_at  nb_qm  nb_and  \\\n",
       "0          37               19   0        3           0      0      0       0   \n",
       "1          77               23   1        1           0      0      0       0   \n",
       "2         126               50   1        4           1      0      1       2   \n",
       "3          18               11   0        2           0      0      0       0   \n",
       "4          55               15   0        2           2      0      0       0   \n",
       "\n",
       "   nb_or  nb_eq  ...  domain_in_title  domain_with_copyright  \\\n",
       "0      0      0  ...                0                      1   \n",
       "1      0      0  ...                1                      0   \n",
       "2      0      3  ...                1                      0   \n",
       "3      0      0  ...                1                      0   \n",
       "4      0      0  ...                0                      1   \n",
       "\n",
       "   whois_registered_domain  domain_registration_length  domain_age  \\\n",
       "0                        0                          45          -1   \n",
       "1                        0                          77        5767   \n",
       "2                        0                          14        4004   \n",
       "3                        0                          62          -1   \n",
       "4                        0                         224        8175   \n",
       "\n",
       "   web_traffic  dns_record  google_index  page_rank  status  \n",
       "0            0           1             1          4       0  \n",
       "1            0           0             1          2       1  \n",
       "2      5828815           0             1          0       1  \n",
       "3       107721           0             0          3       0  \n",
       "4         8725           0             0          6       0  \n",
       "\n",
       "[5 rows x 88 columns]"
      ]
     },
     "execution_count": 25,
     "metadata": {},
     "output_type": "execute_result"
    }
   ],
   "source": [
    "df.head()"
   ]
  },
  {
   "cell_type": "code",
   "execution_count": 26,
   "metadata": {},
   "outputs": [],
   "source": [
    "df = df.drop(avgs_cols + ['random_domain'], axis = 1)"
   ]
  },
  {
   "cell_type": "code",
   "execution_count": 27,
   "metadata": {},
   "outputs": [],
   "source": [
    "from sklearn.model_selection import GridSearchCV as gscv, cross_val_score as cvs, StratifiedKFold as skf, train_test_split as tts\n",
    "from sklearn.metrics import classification_report, confusion_matrix as cmm, accuracy_score as ass\n",
    "\n",
    "from sklearn.preprocessing import MinMaxScaler as mms , RobustScaler as rs , StandardScaler as ss \n",
    "\n",
    "from sklearn.linear_model import LogisticRegression as lrr\n",
    "from sklearn.svm import SVC \n",
    "from sklearn.ensemble import RandomForestClassifier as rfc\n",
    "from sklearn.tree import DecisionTreeClassifier as dtc\n",
    "from sklearn.naive_bayes import GaussianNB as gnb"
   ]
  },
  {
   "cell_type": "code",
   "execution_count": 28,
   "metadata": {},
   "outputs": [],
   "source": [
    "\n",
    "def best_model(models, xt, yt, cols):\n",
    "    results = [[] for _ in range(3)]\n",
    "    cv = skf(n_splits = 10)\n",
    "    for model in models:\n",
    "        scores = cvs(model, xt, yt, cv = cv)\n",
    "        results[0].append(scores.min())\n",
    "        results[1].append(scores.max())\n",
    "        results[2].append(scores.mean())\n",
    "    \n",
    "    return pd.DataFrame({\n",
    "        'min'  : results[0],\n",
    "        'max'  : results[1],\n",
    "        'mean' : results[2]\n",
    "    }, index = cols).T\n",
    "\n",
    "\n",
    "def confmat(yt, pred):\n",
    "    cm = cmm(yt, pred)\n",
    "    sns.heatmap(cm.T, fmt = '.1f', annot = True)\n",
    "    plt.ylabel('predicted')\n",
    "    plt.xlabel('actual');\n",
    "    \n",
    "    \n",
    "def report(yt, pred):\n",
    "    print(classification_report(yt, pred))\n",
    "        "
   ]
  },
  {
   "cell_type": "code",
   "execution_count": 31,
   "metadata": {},
   "outputs": [],
   "source": [
    "x = df.drop(['status'], axis = 1)\n",
    "y = df.status\n",
    "\n",
    "std_scaler = ss()\n",
    "mm_scaler = mms()\n",
    "rb_scaler = rs()\n",
    "\n",
    "stdX = std_scaler.fit_transform(x)\n",
    "mmX = mm_scaler.fit_transform(x)\n",
    "rbX = rb_scaler.fit_transform(x)"
   ]
  },
  {
   "cell_type": "code",
   "execution_count": 30,
   "metadata": {},
   "outputs": [],
   "source": [
    "models = [lrr(), SVC(), rfc(), dtc(), gnb()]\n",
    "names = ['Logistic regressor', 'svm', 'Random forest classifier', 'Decision tree classifier', 'Naive bayes']"
   ]
  },
  {
   "cell_type": "markdown",
   "metadata": {},
   "source": [
    "### Normal x - no scaling"
   ]
  },
  {
   "cell_type": "code",
   "execution_count": 31,
   "metadata": {},
   "outputs": [
    {
     "data": {
      "text/plain": [
       "((9144,), (2286,))"
      ]
     },
     "execution_count": 31,
     "metadata": {},
     "output_type": "execute_result"
    }
   ],
   "source": [
    "x_train, x_test, y_train, y_test = tts(x, y, test_size = 0.2, stratify = y)\n",
    "y_train.shape , y_test.shape"
   ]
  },
  {
   "cell_type": "code",
   "execution_count": 32,
   "metadata": {},
   "outputs": [
    {
     "data": {
      "text/html": [
       "<div>\n",
       "<style scoped>\n",
       "    .dataframe tbody tr th:only-of-type {\n",
       "        vertical-align: middle;\n",
       "    }\n",
       "\n",
       "    .dataframe tbody tr th {\n",
       "        vertical-align: top;\n",
       "    }\n",
       "\n",
       "    .dataframe thead th {\n",
       "        text-align: right;\n",
       "    }\n",
       "</style>\n",
       "<table border=\"1\" class=\"dataframe\">\n",
       "  <thead>\n",
       "    <tr style=\"text-align: right;\">\n",
       "      <th></th>\n",
       "      <th>Logistic regressor</th>\n",
       "      <th>svm</th>\n",
       "      <th>Random forest classifier</th>\n",
       "      <th>Decision tree classifier</th>\n",
       "      <th>Naive bayes</th>\n",
       "    </tr>\n",
       "  </thead>\n",
       "  <tbody>\n",
       "    <tr>\n",
       "      <td>min</td>\n",
       "      <td>0.785558</td>\n",
       "      <td>0.700219</td>\n",
       "      <td>0.948578</td>\n",
       "      <td>0.917943</td>\n",
       "      <td>0.723195</td>\n",
       "    </tr>\n",
       "    <tr>\n",
       "      <td>max</td>\n",
       "      <td>0.857768</td>\n",
       "      <td>0.747265</td>\n",
       "      <td>0.965066</td>\n",
       "      <td>0.945295</td>\n",
       "      <td>0.754923</td>\n",
       "    </tr>\n",
       "    <tr>\n",
       "      <td>mean</td>\n",
       "      <td>0.813422</td>\n",
       "      <td>0.725504</td>\n",
       "      <td>0.955926</td>\n",
       "      <td>0.933070</td>\n",
       "      <td>0.744094</td>\n",
       "    </tr>\n",
       "  </tbody>\n",
       "</table>\n",
       "</div>"
      ],
      "text/plain": [
       "      Logistic regressor       svm  Random forest classifier  \\\n",
       "min             0.785558  0.700219                  0.948578   \n",
       "max             0.857768  0.747265                  0.965066   \n",
       "mean            0.813422  0.725504                  0.955926   \n",
       "\n",
       "      Decision tree classifier  Naive bayes  \n",
       "min                   0.917943     0.723195  \n",
       "max                   0.945295     0.754923  \n",
       "mean                  0.933070     0.744094  "
      ]
     },
     "execution_count": 32,
     "metadata": {},
     "output_type": "execute_result"
    }
   ],
   "source": [
    "best_model(models, x_train, y_train, names)"
   ]
  },
  {
   "cell_type": "markdown",
   "metadata": {},
   "source": [
    "### std scaled x"
   ]
  },
  {
   "cell_type": "code",
   "execution_count": 33,
   "metadata": {},
   "outputs": [
    {
     "data": {
      "text/plain": [
       "((9144,), (2286,))"
      ]
     },
     "execution_count": 33,
     "metadata": {},
     "output_type": "execute_result"
    }
   ],
   "source": [
    "sx_train, sx_test, sy_train, sy_test = tts(stdX, y, test_size = 0.2, stratify = y)\n",
    "sy_train.shape , sy_test.shape"
   ]
  },
  {
   "cell_type": "code",
   "execution_count": 34,
   "metadata": {},
   "outputs": [
    {
     "data": {
      "text/html": [
       "<div>\n",
       "<style scoped>\n",
       "    .dataframe tbody tr th:only-of-type {\n",
       "        vertical-align: middle;\n",
       "    }\n",
       "\n",
       "    .dataframe tbody tr th {\n",
       "        vertical-align: top;\n",
       "    }\n",
       "\n",
       "    .dataframe thead th {\n",
       "        text-align: right;\n",
       "    }\n",
       "</style>\n",
       "<table border=\"1\" class=\"dataframe\">\n",
       "  <thead>\n",
       "    <tr style=\"text-align: right;\">\n",
       "      <th></th>\n",
       "      <th>Logistic regressor</th>\n",
       "      <th>svm</th>\n",
       "      <th>Random forest classifier</th>\n",
       "      <th>Decision tree classifier</th>\n",
       "      <th>Naive bayes</th>\n",
       "    </tr>\n",
       "  </thead>\n",
       "  <tbody>\n",
       "    <tr>\n",
       "      <td>min</td>\n",
       "      <td>0.933260</td>\n",
       "      <td>0.948690</td>\n",
       "      <td>0.946389</td>\n",
       "      <td>0.924508</td>\n",
       "      <td>0.660832</td>\n",
       "    </tr>\n",
       "    <tr>\n",
       "      <td>max</td>\n",
       "      <td>0.955142</td>\n",
       "      <td>0.963895</td>\n",
       "      <td>0.971554</td>\n",
       "      <td>0.947484</td>\n",
       "      <td>0.696937</td>\n",
       "    </tr>\n",
       "    <tr>\n",
       "      <td>mean</td>\n",
       "      <td>0.943133</td>\n",
       "      <td>0.955054</td>\n",
       "      <td>0.956363</td>\n",
       "      <td>0.934058</td>\n",
       "      <td>0.677604</td>\n",
       "    </tr>\n",
       "  </tbody>\n",
       "</table>\n",
       "</div>"
      ],
      "text/plain": [
       "      Logistic regressor       svm  Random forest classifier  \\\n",
       "min             0.933260  0.948690                  0.946389   \n",
       "max             0.955142  0.963895                  0.971554   \n",
       "mean            0.943133  0.955054                  0.956363   \n",
       "\n",
       "      Decision tree classifier  Naive bayes  \n",
       "min                   0.924508     0.660832  \n",
       "max                   0.947484     0.696937  \n",
       "mean                  0.934058     0.677604  "
      ]
     },
     "execution_count": 34,
     "metadata": {},
     "output_type": "execute_result"
    }
   ],
   "source": [
    "best_model(models, sx_train, sy_train, names)"
   ]
  },
  {
   "cell_type": "markdown",
   "metadata": {},
   "source": [
    "### Min max scaler "
   ]
  },
  {
   "cell_type": "code",
   "execution_count": 35,
   "metadata": {},
   "outputs": [
    {
     "data": {
      "text/plain": [
       "((9144,), (2286,))"
      ]
     },
     "execution_count": 35,
     "metadata": {},
     "output_type": "execute_result"
    }
   ],
   "source": [
    "mx_train, mx_test, my_train, my_test = tts(mmX, y, test_size = 0.2, stratify = y)\n",
    "my_train.shape , my_test.shape"
   ]
  },
  {
   "cell_type": "code",
   "execution_count": 36,
   "metadata": {},
   "outputs": [
    {
     "data": {
      "text/html": [
       "<div>\n",
       "<style scoped>\n",
       "    .dataframe tbody tr th:only-of-type {\n",
       "        vertical-align: middle;\n",
       "    }\n",
       "\n",
       "    .dataframe tbody tr th {\n",
       "        vertical-align: top;\n",
       "    }\n",
       "\n",
       "    .dataframe thead th {\n",
       "        text-align: right;\n",
       "    }\n",
       "</style>\n",
       "<table border=\"1\" class=\"dataframe\">\n",
       "  <thead>\n",
       "    <tr style=\"text-align: right;\">\n",
       "      <th></th>\n",
       "      <th>Logistic regressor</th>\n",
       "      <th>svm</th>\n",
       "      <th>Random forest classifier</th>\n",
       "      <th>Decision tree classifier</th>\n",
       "      <th>Naive bayes</th>\n",
       "    </tr>\n",
       "  </thead>\n",
       "  <tbody>\n",
       "    <tr>\n",
       "      <td>min</td>\n",
       "      <td>0.920131</td>\n",
       "      <td>0.902626</td>\n",
       "      <td>0.946389</td>\n",
       "      <td>0.925602</td>\n",
       "      <td>0.679039</td>\n",
       "    </tr>\n",
       "    <tr>\n",
       "      <td>max</td>\n",
       "      <td>0.948690</td>\n",
       "      <td>0.932166</td>\n",
       "      <td>0.974891</td>\n",
       "      <td>0.942013</td>\n",
       "      <td>0.730853</td>\n",
       "    </tr>\n",
       "    <tr>\n",
       "      <td>mean</td>\n",
       "      <td>0.937332</td>\n",
       "      <td>0.919180</td>\n",
       "      <td>0.957345</td>\n",
       "      <td>0.935367</td>\n",
       "      <td>0.703636</td>\n",
       "    </tr>\n",
       "  </tbody>\n",
       "</table>\n",
       "</div>"
      ],
      "text/plain": [
       "      Logistic regressor       svm  Random forest classifier  \\\n",
       "min             0.920131  0.902626                  0.946389   \n",
       "max             0.948690  0.932166                  0.974891   \n",
       "mean            0.937332  0.919180                  0.957345   \n",
       "\n",
       "      Decision tree classifier  Naive bayes  \n",
       "min                   0.925602     0.679039  \n",
       "max                   0.942013     0.730853  \n",
       "mean                  0.935367     0.703636  "
      ]
     },
     "execution_count": 36,
     "metadata": {},
     "output_type": "execute_result"
    }
   ],
   "source": [
    "best_model(models, mx_train, my_train, names)"
   ]
  },
  {
   "cell_type": "markdown",
   "metadata": {},
   "source": [
    "### Robust scaler"
   ]
  },
  {
   "cell_type": "code",
   "execution_count": 37,
   "metadata": {},
   "outputs": [
    {
     "data": {
      "text/plain": [
       "((9144,), (2286,))"
      ]
     },
     "execution_count": 37,
     "metadata": {},
     "output_type": "execute_result"
    }
   ],
   "source": [
    "rx_train, rx_test, ry_train, ry_test = tts(rbX, y, test_size = 0.2, stratify = y)\n",
    "ry_train.shape , ry_test.shape"
   ]
  },
  {
   "cell_type": "code",
   "execution_count": 38,
   "metadata": {},
   "outputs": [
    {
     "data": {
      "text/html": [
       "<div>\n",
       "<style scoped>\n",
       "    .dataframe tbody tr th:only-of-type {\n",
       "        vertical-align: middle;\n",
       "    }\n",
       "\n",
       "    .dataframe tbody tr th {\n",
       "        vertical-align: top;\n",
       "    }\n",
       "\n",
       "    .dataframe thead th {\n",
       "        text-align: right;\n",
       "    }\n",
       "</style>\n",
       "<table border=\"1\" class=\"dataframe\">\n",
       "  <thead>\n",
       "    <tr style=\"text-align: right;\">\n",
       "      <th></th>\n",
       "      <th>Logistic regressor</th>\n",
       "      <th>svm</th>\n",
       "      <th>Random forest classifier</th>\n",
       "      <th>Decision tree classifier</th>\n",
       "      <th>Naive bayes</th>\n",
       "    </tr>\n",
       "  </thead>\n",
       "  <tbody>\n",
       "    <tr>\n",
       "      <td>min</td>\n",
       "      <td>0.938731</td>\n",
       "      <td>0.941048</td>\n",
       "      <td>0.943107</td>\n",
       "      <td>0.922319</td>\n",
       "      <td>0.695842</td>\n",
       "    </tr>\n",
       "    <tr>\n",
       "      <td>max</td>\n",
       "      <td>0.954048</td>\n",
       "      <td>0.959607</td>\n",
       "      <td>0.968341</td>\n",
       "      <td>0.940919</td>\n",
       "      <td>0.722707</td>\n",
       "    </tr>\n",
       "    <tr>\n",
       "      <td>mean</td>\n",
       "      <td>0.944552</td>\n",
       "      <td>0.950241</td>\n",
       "      <td>0.958877</td>\n",
       "      <td>0.929570</td>\n",
       "      <td>0.711064</td>\n",
       "    </tr>\n",
       "  </tbody>\n",
       "</table>\n",
       "</div>"
      ],
      "text/plain": [
       "      Logistic regressor       svm  Random forest classifier  \\\n",
       "min             0.938731  0.941048                  0.943107   \n",
       "max             0.954048  0.959607                  0.968341   \n",
       "mean            0.944552  0.950241                  0.958877   \n",
       "\n",
       "      Decision tree classifier  Naive bayes  \n",
       "min                   0.922319     0.695842  \n",
       "max                   0.940919     0.722707  \n",
       "mean                  0.929570     0.711064  "
      ]
     },
     "execution_count": 38,
     "metadata": {},
     "output_type": "execute_result"
    }
   ],
   "source": [
    "best_model(models, rx_train, ry_train, names)"
   ]
  },
  {
   "cell_type": "markdown",
   "metadata": {},
   "source": [
    "#### random forest and svm gave the highest cv scores, lets try to improve them "
   ]
  },
  {
   "cell_type": "markdown",
   "metadata": {},
   "source": [
    "## SVM"
   ]
  },
  {
   "cell_type": "code",
   "execution_count": 30,
   "metadata": {},
   "outputs": [],
   "source": [
    "x_train, x_test, y_train, y_test = tts(x, y, test_size = 0.2, stratify = y)"
   ]
  },
  {
   "cell_type": "code",
   "execution_count": 35,
   "metadata": {},
   "outputs": [],
   "source": [
    "from sklearn.pipeline import Pipeline"
   ]
  },
  {
   "cell_type": "code",
   "execution_count": 56,
   "metadata": {},
   "outputs": [
    {
     "data": {
      "image/png": "[encoded data removed]",
      "text/plain": [
       "<Figure size 432x288 with 2 Axes>"
      ]
     },
     "metadata": {
      "needs_background": "light"
     },
     "output_type": "display_data"
    }
   ],
   "source": [
    "pipeline = Pipeline(steps = [('std', std_scaler), ('svm', SVC(C = 10))])\n",
    "pipeline.fit(x_train,y_train)\n",
    "pred = pipeline.predict(x_test)\n",
    "confmat(y_test, pred)"
   ]
  },
  {
   "cell_type": "code",
   "execution_count": 57,
   "metadata": {},
   "outputs": [
    {
     "name": "stdout",
     "output_type": "stream",
     "text": [
      "              precision    recall  f1-score   support\n",
      "\n",
      "           0       0.96      0.95      0.96      1143\n",
      "           1       0.95      0.96      0.96      1143\n",
      "\n",
      "    accuracy                           0.96      2286\n",
      "   macro avg       0.96      0.96      0.96      2286\n",
      "weighted avg       0.96      0.96      0.96      2286\n",
      "\n"
     ]
    }
   ],
   "source": [
    "report(y_test, pred)"
   ]
  },
  {
   "cell_type": "markdown",
   "metadata": {},
   "source": [
    "## Random forest classifier "
   ]
  },
  {
   "cell_type": "code",
   "execution_count": 40,
   "metadata": {},
   "outputs": [],
   "source": [
    "x_train, x_test, y_train, y_test = tts(x, y, test_size = 0.2, stratify = y)"
   ]
  },
  {
   "cell_type": "code",
   "execution_count": 59,
   "metadata": {},
   "outputs": [
    {
     "data": {
      "image/png": "[encoded data removed]",
      "text/plain": [
       "<Figure size 432x288 with 2 Axes>"
      ]
     },
     "metadata": {
      "needs_background": "light"
     },
     "output_type": "display_data"
    }
   ],
   "source": [
    "pipeline = Pipeline(steps = [('rbs', rb_scaler), ('rfc', rfc(bootstrap= False,\n",
    " max_depth= 80,\n",
    " min_samples_leaf= 1,\n",
    " n_estimators = 400))])\n",
    "pipeline.fit(x_train,y_train)\n",
    "pred = pipeline.predict(x_test)\n",
    "confmat(y_test, pred)"
   ]
  },
  {
   "cell_type": "code",
   "execution_count": 60,
   "metadata": {},
   "outputs": [
    {
     "name": "stdout",
     "output_type": "stream",
     "text": [
      "              precision    recall  f1-score   support\n",
      "\n",
      "           0       0.98      0.96      0.97      1143\n",
      "           1       0.96      0.98      0.97      1143\n",
      "\n",
      "    accuracy                           0.97      2286\n",
      "   macro avg       0.97      0.97      0.97      2286\n",
      "weighted avg       0.97      0.97      0.97      2286\n",
      "\n"
     ]
    }
   ],
   "source": [
    "report(y_test, pred)"
   ]
  },
  {
   "cell_type": "markdown",
   "metadata": {},
   "source": [
    "### Random forest gave the best score of all "
   ]
  },
  {
   "cell_type": "code",
   "execution_count": 33,
   "metadata": {},
   "outputs": [],
   "source": [
    "import pickle "
   ]
  },
  {
   "cell_type": "code",
   "execution_count": 36,
   "metadata": {},
   "outputs": [
    {
     "data": {
      "text/plain": [
       "Pipeline(memory=None,\n",
       "         steps=[('std',\n",
       "                 StandardScaler(copy=True, with_mean=True, with_std=True)),\n",
       "                ('svm',\n",
       "                 SVC(C=10, cache_size=200, class_weight=None, coef0=0.0,\n",
       "                     decision_function_shape='ovr', degree=3,\n",
       "                     gamma='auto_deprecated', kernel='rbf', max_iter=-1,\n",
       "                     probability=False, random_state=None, shrinking=True,\n",
       "                     tol=0.001, verbose=False))],\n",
       "         verbose=False)"
      ]
     },
     "execution_count": 36,
     "metadata": {},
     "output_type": "execute_result"
    }
   ],
   "source": [
    "pipeline = Pipeline(steps = [('std', std_scaler), ('svm', SVC(C = 10))])\n",
    "pipeline.fit(x,y)"
   ]
  },
  {
   "cell_type": "code",
   "execution_count": 37,
   "metadata": {},
   "outputs": [],
   "source": [
    "with open('rfcModel', 'wb') as file:\n",
    "    pickle.dump(pipeline, file)"
   ]
  },
  {
   "cell_type": "markdown",
   "metadata": {},
   "source": [
    "### testing out the saved model"
   ]
  },
  {
   "cell_type": "code",
   "execution_count": 38,
   "metadata": {},
   "outputs": [
    {
     "data": {
      "text/plain": [
       "Pipeline(memory=None,\n",
       "         steps=[('std',\n",
       "                 StandardScaler(copy=True, with_mean=True, with_std=True)),\n",
       "                ('svm',\n",
       "                 SVC(C=10, cache_size=200, class_weight=None, coef0=0.0,\n",
       "                     decision_function_shape='ovr', degree=3,\n",
       "                     gamma='auto_deprecated', kernel='rbf', max_iter=-1,\n",
       "                     probability=False, random_state=None, shrinking=True,\n",
       "                     tol=0.001, verbose=False))],\n",
       "         verbose=False)"
      ]
     },
     "execution_count": 38,
     "metadata": {},
     "output_type": "execute_result"
    }
   ],
   "source": [
    "with open('rfcModel','rb') as file:    \n",
    "    model = pickle.load(file)\n",
    "model"
   ]
  },
  {
   "cell_type": "code",
   "execution_count": 41,
   "metadata": {},
   "outputs": [],
   "source": [
    "spred = model.predict(x_test)"
   ]
  },
  {
   "cell_type": "code",
   "execution_count": 42,
   "metadata": {},
   "outputs": [
    {
     "name": "stdout",
     "output_type": "stream",
     "text": [
      "              precision    recall  f1-score   support\n",
      "\n",
      "           0       0.99      0.99      0.99      1143\n",
      "           1       0.99      0.99      0.99      1143\n",
      "\n",
      "    accuracy                           0.99      2286\n",
      "   macro avg       0.99      0.99      0.99      2286\n",
      "weighted avg       0.99      0.99      0.99      2286\n",
      "\n"
     ]
    }
   ],
   "source": [
    "report(y_test, spred)"
   ]
  },
  {
   "cell_type": "markdown",
   "metadata": {},
   "source": [
    "### After testing it out with more phishing sites , svm did better than random forest classifier "
   ]
  },
  {
   "cell_type": "code",
   "execution_count": null,
   "metadata": {},
   "outputs": [],
   "source": []
  }
 ],
 "metadata": {
  "kernelspec": {
   "display_name": "Python 3",
   "language": "python",
   "name": "python3"
  },
  "language_info": {
   "codemirror_mode": {
    "name": "ipython",
    "version": 3
   },
   "file_extension": ".py",
   "mimetype": "text/x-python",
   "name": "python",
   "nbconvert_exporter": "python",
   "pygments_lexer": "ipython3",
   "version": "3.7.4"
  }
 },
 "nbformat": 4,
 "nbformat_minor": 2
}
